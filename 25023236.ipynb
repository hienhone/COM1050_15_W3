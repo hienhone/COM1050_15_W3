{
 "cells": [
  {
   "cell_type": "markdown",
   "id": "090faa61-436c-4217-8c9b-15fa100bc896",
   "metadata": {},
   "source": []
  },
  {
   "cell_type": "markdown",
   "id": "77365acf-8c97-4979-8acc-3c5968cfc9f9",
   "metadata": {},
   "source": [
    "## Bài 1:\n"
   ]
  },
  {
   "cell_type": "code",
   "execution_count": 1,
   "id": "a41f2711-7615-4bbd-8608-a7030fc735f1",
   "metadata": {},
   "outputs": [
    {
     "name": "stdout",
     "output_type": "stream",
     "text": [
      "7 5\n"
     ]
    }
   ],
   "source": [
    "a = 5\n",
    "b = 7\n",
    "a, b = b, a\n",
    "print (a,b)"
   ]
  },
  {
   "cell_type": "markdown",
   "id": "03ba30bd-4842-4dd4-8dff-02e1ac85245e",
   "metadata": {},
   "source": [
    "## Bài 2:\n"
   ]
  },
  {
   "cell_type": "code",
   "execution_count": 3,
   "id": "04e46d66-3577-4fb3-975b-eeceba50cdee",
   "metadata": {},
   "outputs": [
    {
     "name": "stdout",
     "output_type": "stream",
     "text": [
      "0b111\n"
     ]
    }
   ],
   "source": [
    "bin_a = bin(a)\n",
    "print (bin_a)"
   ]
  },
  {
   "cell_type": "markdown",
   "id": "9857f12c-56a6-48e8-b76a-efeeb737114c",
   "metadata": {},
   "source": [
    "### Cách hoán đổi 2 giá trị $a$ và $b$ sử dụng phép XOR"
   ]
  },
  {
   "cell_type": "code",
   "execution_count": 5,
   "id": "a11ba8b0-08e2-4a47-b247-94c9e17b8219",
   "metadata": {},
   "outputs": [
    {
     "name": "stdin",
     "output_type": "stream",
     "text": [
      " 5 7\n"
     ]
    },
    {
     "name": "stdout",
     "output_type": "stream",
     "text": [
      "Giá trị ban đầu cả a: 5 ; b: 7\n"
     ]
    }
   ],
   "source": [
    "a, b = map(int,input().split())\n",
    "print (f\"Giá trị ban đầu cả a: {a} ; b: {b}\")\n"
   ]
  },
  {
   "cell_type": "markdown",
   "id": "52e0701f-2df7-4a1c-b223-6b70194a6be6",
   "metadata": {},
   "source": [
    "## Bài 3:"
   ]
  },
  {
   "cell_type": "code",
   "execution_count": 10,
   "id": "130876d8-b445-4b98-b02b-5a80ec9a18a0",
   "metadata": {},
   "outputs": [
    {
     "name": "stdin",
     "output_type": "stream",
     "text": [
      " 88\n"
     ]
    },
    {
     "name": "stdout",
     "output_type": "stream",
     "text": [
      "88 không là luỹ thừa của 2\n"
     ]
    }
   ],
   "source": [
    "a = int(input())\n",
    "if (a & (a-1) == 0):\n",
    "    print(f\"{a} là luỹ thừa của 2\")\n",
    "else:\n",
    "    print(f\"{a} không là luỹ thừa của 2\")"
   ]
  },
  {
   "cell_type": "markdown",
   "id": "24b9b796-9204-4b28-a651-ae1d6aed660d",
   "metadata": {},
   "source": [
    "## Bài 4:"
   ]
  },
  {
   "cell_type": "code",
   "execution_count": 3,
   "id": "13361c8f-1e3c-4d77-9bec-5bcd580da5ba",
   "metadata": {},
   "outputs": [
    {
     "name": "stdin",
     "output_type": "stream",
     "text": [
      " 71 9\n"
     ]
    },
    {
     "name": "stdout",
     "output_type": "stream",
     "text": [
      "7\n"
     ]
    }
   ],
   "source": [
    "m, n = map (int,input().split())\n",
    "from math import *\n",
    "print (floor(m/n))"
   ]
  },
  {
   "cell_type": "markdown",
   "id": "0f50a1ab-23d3-441b-8927-171a1ca09856",
   "metadata": {},
   "source": [
    "## Bài 5:"
   ]
  },
  {
   "cell_type": "code",
   "execution_count": 4,
   "id": "f08671f1-2fa4-4192-ae2b-ed2018feb1ba",
   "metadata": {},
   "outputs": [
    {
     "name": "stdin",
     "output_type": "stream",
     "text": [
      " 67 9\n"
     ]
    },
    {
     "name": "stdout",
     "output_type": "stream",
     "text": [
      "8\n"
     ]
    }
   ],
   "source": [
    "m, n = map (int,input().split())\n",
    "from math import *\n",
    "print (ceil(m/n))"
   ]
  },
  {
   "cell_type": "markdown",
   "id": "5ff394fe-fcd0-426f-9904-4a1448ad5b81",
   "metadata": {},
   "source": [
    "## Bài 6:\n"
   ]
  },
  {
   "cell_type": "code",
   "execution_count": 1,
   "id": "9cc3f35d-ac1a-4fb2-8970-dfe3b271126d",
   "metadata": {},
   "outputs": [
    {
     "name": "stdin",
     "output_type": "stream",
     "text": [
      " 2\n"
     ]
    },
    {
     "name": "stdout",
     "output_type": "stream",
     "text": [
      "Even\n"
     ]
    }
   ],
   "source": [
    "x = int(input())\n",
    "if x % 2 == 0:\n",
    "    print (\"Even\")\n",
    "else:\n",
    "    print (\"Odd\")\n",
    "\n",
    "\n"
   ]
  },
  {
   "cell_type": "markdown",
   "id": "4f02ee37-e7cc-4e92-9686-2a64d3317840",
   "metadata": {},
   "source": [
    "## Bài 7:"
   ]
  },
  {
   "cell_type": "code",
   "execution_count": 5,
   "id": "6f895203-9569-472b-b57f-86db5ca4200a",
   "metadata": {},
   "outputs": [
    {
     "name": "stdin",
     "output_type": "stream",
     "text": [
      " 3 4\n"
     ]
    },
    {
     "name": "stdout",
     "output_type": "stream",
     "text": [
      "No\n"
     ]
    }
   ],
   "source": [
    "a, b = map(int,input().split())\n",
    "if a < 0 and b < 0:\n",
    "   print (\"Yes\")\n",
    "else:\n",
    "   print (\"No\")"
   ]
  },
  {
   "cell_type": "markdown",
   "id": "fb5fa6df-ba93-4452-b578-8ab3a8458204",
   "metadata": {},
   "source": [
    "## Bài 8:"
   ]
  },
  {
   "cell_type": "code",
   "execution_count": 6,
   "id": "a209022b-d16a-4948-a92a-8e35b8870702",
   "metadata": {},
   "outputs": [
    {
     "name": "stdin",
     "output_type": "stream",
     "text": [
      " abcd ahjdiku\n"
     ]
    },
    {
     "name": "stdout",
     "output_type": "stream",
     "text": [
      "False\n"
     ]
    }
   ],
   "source": [
    "a, b = input().split()\n",
    "if len(a) > len(b):\n",
    "    print (\"True\")\n",
    "else:\n",
    "    print (\"False\")\n"
   ]
  },
  {
   "cell_type": "markdown",
   "id": "a4ebba38-878f-4b1c-bd14-5c4ca277d3ac",
   "metadata": {},
   "source": [
    "## Bài 9:"
   ]
  },
  {
   "cell_type": "code",
   "execution_count": 7,
   "id": "4ad3b094-16df-4a3c-a292-a22bc3652efb",
   "metadata": {},
   "outputs": [
    {
     "name": "stdin",
     "output_type": "stream",
     "text": [
      " 2 3 4\n"
     ]
    },
    {
     "name": "stdout",
     "output_type": "stream",
     "text": [
      "Yes\n"
     ]
    }
   ],
   "source": [
    "a, b, c = map(int,input().split())\n",
    "if a > 0 and b > 0 and c > 0 and (a + b > c) and (b + c > a) and (c + a > b):\n",
    "    print (\"Yes\")\n",
    "else:\n",
    "    print (\"No\")"
   ]
  },
  {
   "cell_type": "markdown",
   "id": "4b72f50f-239a-4fc7-be83-b0a69c28c5e7",
   "metadata": {},
   "source": [
    "## Bài 10:"
   ]
  },
  {
   "cell_type": "code",
   "execution_count": 8,
   "id": "d6c1f450-8a78-4445-812c-c8765d121b06",
   "metadata": {},
   "outputs": [
    {
     "name": "stdin",
     "output_type": "stream",
     "text": [
      " 1 2 3 4\n"
     ]
    },
    {
     "name": "stdout",
     "output_type": "stream",
     "text": [
      "4\n"
     ]
    }
   ],
   "source": [
    "a, b, c, d = map(int,input().split())\n",
    "print (max(a, b, c, d))\n"
   ]
  },
  {
   "cell_type": "markdown",
   "id": "945c405f-f20c-47d0-8b25-f1b9c88d2d54",
   "metadata": {},
   "source": [
    "## Bài 11:\n"
   ]
  },
  {
   "cell_type": "code",
   "execution_count": 10,
   "id": "8fa212a8-ffb9-4183-9e37-021e8a7b8ce5",
   "metadata": {},
   "outputs": [
    {
     "name": "stdin",
     "output_type": "stream",
     "text": [
      " 5 6 7\n"
     ]
    },
    {
     "name": "stdout",
     "output_type": "stream",
     "text": [
      "Tam giác thường\n"
     ]
    }
   ],
   "source": [
    "a, b, c = map(int,input().split())\n",
    "if a > 0 and b > 0 and c > 0 and (a + b > c) and (b + c > a) and (c + a > b):\n",
    "    if a == b == c:\n",
    "        print (\"Tam giác đều\")\n",
    "    elif a == b or b == c or a == c:\n",
    "        print (\"Tam giác cân\")\n",
    "    else:\n",
    "        print (\"Tam giác thường\")\n",
    "else:\n",
    "    print (\"Không phải tam giác\")"
   ]
  },
  {
   "cell_type": "markdown",
   "id": "d1c9bc35-fdb2-41bb-a9e0-00db734e0252",
   "metadata": {},
   "source": [
    "## Bài 12:"
   ]
  },
  {
   "cell_type": "code",
   "execution_count": 11,
   "id": "6c67cf53-ba52-49b9-8afb-cd529462c5f1",
   "metadata": {},
   "outputs": [
    {
     "name": "stdin",
     "output_type": "stream",
     "text": [
      "Năm 200\n"
     ]
    },
    {
     "name": "stdout",
     "output_type": "stream",
     "text": [
      "Yes\n"
     ]
    }
   ],
   "source": [
    "n = int(input(\"Năm\"))\n",
    "if (n % 4 == 0 and n % 100 != 0) or (n % 4 == 0):\n",
    "    print (\"Yes\")\n",
    "else: \n",
    "    print (\"No\")\n",
    "\n",
    "        "
   ]
  },
  {
   "cell_type": "markdown",
   "id": "cfaecd74-b998-46f7-ae2d-3a620ae18a85",
   "metadata": {},
   "source": [
    "## Bài 14:"
   ]
  },
  {
   "cell_type": "code",
   "execution_count": 14,
   "id": "258db974-0029-42bf-add1-2cb364b10560",
   "metadata": {},
   "outputs": [
    {
     "name": "stdin",
     "output_type": "stream",
     "text": [
      " 34 54\n"
     ]
    },
    {
     "name": "stdout",
     "output_type": "stream",
     "text": [
      "-1.59\n"
     ]
    }
   ],
   "source": [
    "a, b = map(float,input().split())\n",
    "if a == 0:\n",
    "    if b == 0:\n",
    "        print (\"Vô số nghiệm\")\n",
    "    else:\n",
    "        print (\"Vô nghiệm\")\n",
    "else: \n",
    "    x = -b/a\n",
    "    print(round(x,2))\n"
   ]
  },
  {
   "cell_type": "markdown",
   "id": "10dbf947-eff2-448d-95c4-1454fd2e19d3",
   "metadata": {},
   "source": [
    "## Bài 15:"
   ]
  },
  {
   "cell_type": "code",
   "execution_count": 15,
   "id": "90e8617c-aeb1-4353-bdbb-7c6331bf41bf",
   "metadata": {},
   "outputs": [
    {
     "name": "stdin",
     "output_type": "stream",
     "text": [
      "Điểm trung bình: 7\n"
     ]
    },
    {
     "name": "stdout",
     "output_type": "stream",
     "text": [
      "Khá\n"
     ]
    }
   ],
   "source": [
    "a = float(input('Điểm trung bình:'))\n",
    "if a >= 8.0:\n",
    "    print ('Giỏi')\n",
    "elif a >= 6.5:\n",
    "    print ('Khá')\n",
    "elif a >= 5.0:\n",
    "    print ('Trung bình')\n",
    "else:\n",
    "    print ('Yếu')"
   ]
  },
  {
   "cell_type": "markdown",
   "id": "2c3e0498-ef91-4562-b271-773fe2b490ca",
   "metadata": {},
   "source": [
    "## Bài 16:\n"
   ]
  },
  {
   "cell_type": "code",
   "execution_count": 17,
   "id": "ee37842a-d527-4e20-8eac-c0c429631627",
   "metadata": {},
   "outputs": [
    {
     "name": "stdin",
     "output_type": "stream",
     "text": [
      " 22\n"
     ]
    },
    {
     "name": "stdout",
     "output_type": "stream",
     "text": [
      "23.0 22.0 23\n"
     ]
    }
   ],
   "source": [
    "a = float(input())\n",
    "print ((a+1) *10//10, a*10//10, int((a+1)*10//10))"
   ]
  },
  {
   "cell_type": "markdown",
   "id": "5512798c-0434-4b1a-bf3a-54125155e957",
   "metadata": {},
   "source": [
    "## Bài 17:"
   ]
  },
  {
   "cell_type": "code",
   "execution_count": 18,
   "id": "7bc9de44-5789-4d96-b96e-b57942939e48",
   "metadata": {},
   "outputs": [
    {
     "name": "stdin",
     "output_type": "stream",
     "text": [
      " 1 2 3 4\n"
     ]
    },
    {
     "name": "stdout",
     "output_type": "stream",
     "text": [
      "No\n"
     ]
    }
   ],
   "source": [
    "a, b, c, d = map(int,input().split())\n",
    "if b/a == c/b == d/c:\n",
    "    print ('Yes')\n",
    "else: \n",
    "    print ('No')\n"
   ]
  },
  {
   "cell_type": "code",
   "execution_count": null,
   "id": "d9b902e3-008b-43bd-8f6c-cd784015e29a",
   "metadata": {},
   "outputs": [],
   "source": []
  }
 ],
 "metadata": {
  "kernelspec": {
   "display_name": "Python 3 (ipykernel)",
   "language": "python",
   "name": "python3"
  },
  "language_info": {
   "codemirror_mode": {
    "name": "ipython",
    "version": 3
   },
   "file_extension": ".py",
   "mimetype": "text/x-python",
   "name": "python",
   "nbconvert_exporter": "python",
   "pygments_lexer": "ipython3",
   "version": "3.13.5"
  }
 },
 "nbformat": 4,
 "nbformat_minor": 5
}
