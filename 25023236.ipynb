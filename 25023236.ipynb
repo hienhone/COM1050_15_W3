{
 "cells": [
  {
   "cell_type": "markdown",
   "id": "090faa61-436c-4217-8c9b-15fa100bc896",
   "metadata": {},
   "source": []
  },
  {
   "cell_type": "code",
   "execution_count": 1,
   "id": "a41f2711-7615-4bbd-8608-a7030fc735f1",
   "metadata": {},
   "outputs": [
    {
     "name": "stdout",
     "output_type": "stream",
     "text": [
      "7 5\n"
     ]
    }
   ],
   "source": [
    "a = 5\n",
    "b = 7\n",
    "a, b = b, a\n",
    "print (a,b)"
   ]
  },
  {
   "cell_type": "markdown",
   "id": "03ba30bd-4842-4dd4-8dff-02e1ac85245e",
   "metadata": {},
   "source": [
    "# Bài 1:\n"
   ]
  },
  {
   "cell_type": "raw",
   "id": "f47166b4-0d24-428f-a6f9-8e7325679e86",
   "metadata": {},
   "source": [
    "AND :\n",
    "AND(1,1) = 1\n",
    "AND(1,0) = AND(0,1) = 0\n",
    "AND(0,0) = 0\n",
    "OR:\n",
    "OR(1,1) = 1\n",
    "OR(0,0) = 0\n",
    "OR(1,0) = OR(0,1) = 1\n",
    "XOR:\n",
    "XOR (1,1) = XOR (0,0) = 0\n",
    "XOR (1,0) = XOR (0,1) = 1"
   ]
  },
  {
   "cell_type": "code",
   "execution_count": 3,
   "id": "04e46d66-3577-4fb3-975b-eeceba50cdee",
   "metadata": {},
   "outputs": [
    {
     "name": "stdout",
     "output_type": "stream",
     "text": [
      "0b111\n"
     ]
    }
   ],
   "source": [
    "bin_a = bin(a)\n",
    "print (bin_a)"
   ]
  },
  {
   "cell_type": "markdown",
   "id": "9857f12c-56a6-48e8-b76a-efeeb737114c",
   "metadata": {},
   "source": [
    "### Cách hoán đổi 2 giá trị $a$ và $b$ sử dụng phép XOR"
   ]
  },
  {
   "cell_type": "code",
   "execution_count": 5,
   "id": "a11ba8b0-08e2-4a47-b247-94c9e17b8219",
   "metadata": {},
   "outputs": [
    {
     "name": "stdin",
     "output_type": "stream",
     "text": [
      " 5 7\n"
     ]
    },
    {
     "name": "stdout",
     "output_type": "stream",
     "text": [
      "Giá trị ban đầu cả a: 5 ; b: 7\n"
     ]
    }
   ],
   "source": [
    "a, b = map(int,input().split())\n",
    "print (f\"Giá trị ban đầu cả a: {a} ; b: {b}\")\n"
   ]
  },
  {
   "cell_type": "markdown",
   "id": "52e0701f-2df7-4a1c-b223-6b70194a6be6",
   "metadata": {},
   "source": [
    "# Bài 2"
   ]
  },
  {
   "cell_type": "code",
   "execution_count": 7,
   "id": "1fc62e47-2dab-4788-b959-5811961c47b9",
   "metadata": {},
   "outputs": [
    {
     "data": {
      "text/plain": [
       "True"
      ]
     },
     "execution_count": 7,
     "metadata": {},
     "output_type": "execute_result"
    }
   ],
   "source": [
    "a = 4\n",
    "a & (a-1) == 0"
   ]
  },
  {
   "cell_type": "code",
   "execution_count": 10,
   "id": "130876d8-b445-4b98-b02b-5a80ec9a18a0",
   "metadata": {},
   "outputs": [
    {
     "name": "stdin",
     "output_type": "stream",
     "text": [
      " 88\n"
     ]
    },
    {
     "name": "stdout",
     "output_type": "stream",
     "text": [
      "88 không là luỹ thừa của 2\n"
     ]
    }
   ],
   "source": [
    "a = int(input())\n",
    "if (a & (a-1) == 0):\n",
    "    print(f\"{a} là luỹ thừa của 2\")\n",
    "else:\n",
    "    print(f\"{a} không là luỹ thừa của 2\")"
   ]
  },
  {
   "cell_type": "code",
   "execution_count": null,
   "id": "1df5849d-300c-4773-a64a-edfdef9c7727",
   "metadata": {},
   "outputs": [],
   "source": [
    "### Ba"
   ]
  },
  {
   "cell_type": "code",
   "execution_count": null,
   "id": "13361c8f-1e3c-4d77-9bec-5bcd580da5ba",
   "metadata": {},
   "outputs": [],
   "source": []
  }
 ],
 "metadata": {
  "kernelspec": {
   "display_name": "Python 3 (ipykernel)",
   "language": "python",
   "name": "python3"
  },
  "language_info": {
   "codemirror_mode": {
    "name": "ipython",
    "version": 3
   },
   "file_extension": ".py",
   "mimetype": "text/x-python",
   "name": "python",
   "nbconvert_exporter": "python",
   "pygments_lexer": "ipython3",
   "version": "3.13.5"
  }
 },
 "nbformat": 4,
 "nbformat_minor": 5
}
