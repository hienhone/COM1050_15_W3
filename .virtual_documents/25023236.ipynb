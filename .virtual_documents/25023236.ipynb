


a = 5
b = 7
a, b = b, a
print (a,b)








bin_a = bin(a)
print (bin_a)





a, b = map(int,input().split())
print (f"Giá trị ban đầu cả a: {a} ; b: {b}")






a = 4
a & (a-1) == 0


a = int(input())
if (a & (a-1) == 0):
    print(f"{a} là luỹ thừa của 2")
else:
    print(f"{a} không là luỹ thừa của 2")





m, n = map (int,input().split())
print (floor(m/n))



